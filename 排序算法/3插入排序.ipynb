{
 "cells": [
  {
   "cell_type": "markdown",
   "metadata": {},
   "source": [
    "# 插入排序\n",
    "---\n",
    "**1. 基本思路**    \n",
    "+ 将未排序序列中的数插入到以排序序列中\n",
    "+ 插入通过向后挪动已排序数列进行\n",
    "\n",
    "**2. 时间复杂度**   \n",
    "+ 最优时间复杂度：O(n) 已排序序列\n",
    "+ 最坏时间复杂度：O($n^{2}$)\n",
    "\n",
    "**3. 空间复杂度**\n",
    "+ 原位替换： O(1)\n",
    "\n",
    "**4. 排序稳定性**\n",
    "+ 稳定"
   ]
  },
  {
   "cell_type": "code",
   "execution_count": 1,
   "metadata": {},
   "outputs": [],
   "source": [
    "def insert_sort(nums):\n",
    "    n = len(nums)\n",
    "    for i in range(0, n-1):\n",
    "        j = i + 1\n",
    "        temp = nums[j]\n",
    "        if temp >= nums[i]:\n",
    "            continue\n",
    "        else:\n",
    "            cur = i\n",
    "            while temp < nums[cur]:\n",
    "                nums[cur], nums[cur+1] = nums[cur+1], nums[cur]\n",
    "                cur -= 1\n",
    "            nums[cur+1] = temp\n",
    "    return nums"
   ]
  },
  {
   "cell_type": "code",
   "execution_count": 2,
   "metadata": {},
   "outputs": [],
   "source": [
    "test = [0,4,5,1,44,32,24,55,321,4]"
   ]
  },
  {
   "cell_type": "code",
   "execution_count": 3,
   "metadata": {},
   "outputs": [
    {
     "name": "stdout",
     "output_type": "stream",
     "text": [
      "name:i1\n",
      "origin:[0, 4, 5, 1, 44, 32, 24, 55, 321, 4]\n",
      "answer:[0, 1, 4, 4, 5, 24, 32, 44, 55, 321]\n",
      "time:1.0733108999999998s\n",
      "\n"
     ]
    }
   ],
   "source": [
    "if __name__ == '__main__':\n",
    "    from timeit import timeit\n",
    "    print('name:i1\\norigin:{}'.format(test))\n",
    "    print('answer:{}\\ntime:{}s\\n'.format(insert_sort(test),timeit('insert_sort(test)','from __main__ import insert_sort,test')))"
   ]
  },
  {
   "cell_type": "code",
   "execution_count": null,
   "metadata": {},
   "outputs": [],
   "source": []
  }
 ],
 "metadata": {
  "kernelspec": {
   "display_name": "Python 3",
   "language": "python",
   "name": "python3"
  },
  "language_info": {
   "codemirror_mode": {
    "name": "ipython",
    "version": 3
   },
   "file_extension": ".py",
   "mimetype": "text/x-python",
   "name": "python",
   "nbconvert_exporter": "python",
   "pygments_lexer": "ipython3",
   "version": "3.8.3"
  }
 },
 "nbformat": 4,
 "nbformat_minor": 4
}
