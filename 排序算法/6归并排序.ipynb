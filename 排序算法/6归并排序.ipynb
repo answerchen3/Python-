{
 "cells": [
  {
   "cell_type": "markdown",
   "metadata": {},
   "source": [
    "# 归并排序\n",
    "---\n",
    "**1. 基本思路**\n",
    "+ 将数组划分为最小单元\n",
    "+ 然后根据大小将每个单元合并为大单元\n",
    "\n",
    "**2. 时间复杂度**   \n",
    "+ 最优时间复杂度：O($nlogn$)\n",
    "+ 最坏时间复杂度：O($nlogn$)\n",
    "\n",
    "**3. 空间复杂度**\n",
    "+ 原位替换： O(n)\n",
    "\n",
    "**4. 排序稳定性**\n",
    "+ 稳定"
   ]
  },
  {
   "cell_type": "code",
   "execution_count": 16,
   "metadata": {},
   "outputs": [],
   "source": [
    "def merge(nums1, nums2):\n",
    "    p1 = 0\n",
    "    p2 = 0\n",
    "    n1 = len(nums1)\n",
    "    n2 = len(nums2)\n",
    "    ans = []\n",
    "    while p1 < n1 and p2 < n2:\n",
    "        if nums1[p1] < nums2[p2]:\n",
    "            ans.append(nums1[p1])\n",
    "            p1 += 1\n",
    "        else:\n",
    "            ans.append(nums2[p2])\n",
    "            p2 += 1\n",
    "    ans += nums1[p1:]\n",
    "    ans += nums2[p2:]\n",
    "    return ans\n",
    "\n",
    "def merge_sort(nums):\n",
    "    if len(nums) <= 1:\n",
    "        return nums\n",
    "    n = len(nums) // 2\n",
    "    left = merge_sort(nums[:n])\n",
    "    right = merge_sort(nums[n:])\n",
    "    return merge(left, right)\n"
   ]
  },
  {
   "cell_type": "code",
   "execution_count": 17,
   "metadata": {},
   "outputs": [],
   "source": [
    "test = [0,4,5,1,44,32,24,55,321,4]"
   ]
  },
  {
   "cell_type": "code",
   "execution_count": 21,
   "metadata": {},
   "outputs": [
    {
     "name": "stdout",
     "output_type": "stream",
     "text": [
      "name:m1\n",
      "origin:[0, 4, 5, 1, 44, 32, 24, 55, 321, 4]\n",
      "answer:[0, 1, 4, 4, 5, 24, 32, 44, 55, 321]\n",
      "time:0.12057770000001256s\n",
      "\n"
     ]
    }
   ],
   "source": [
    "if __name__ == '__main__':\n",
    "    from timeit import timeit\n",
    "    print('name:m1\\norigin:{}'.format(test))\n",
    "    print('answer:{}\\ntime:{}s\\n'.format(merge_sort(test),timeit('merge_sort(test)','from __main__ import merge_sort,test')))"
   ]
  },
  {
   "cell_type": "code",
   "execution_count": null,
   "metadata": {},
   "outputs": [],
   "source": []
  }
 ],
 "metadata": {
  "kernelspec": {
   "display_name": "Python 3",
   "language": "python",
   "name": "python3"
  },
  "language_info": {
   "codemirror_mode": {
    "name": "ipython",
    "version": 3
   },
   "file_extension": ".py",
   "mimetype": "text/x-python",
   "name": "python",
   "nbconvert_exporter": "python",
   "pygments_lexer": "ipython3",
   "version": "3.8.3"
  }
 },
 "nbformat": 4,
 "nbformat_minor": 4
}
