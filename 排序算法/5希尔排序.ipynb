{
 "cells": [
  {
   "cell_type": "markdown",
   "metadata": {},
   "source": [
    "# 希尔排序\n",
    "---\n",
    "**1. 基本思路**\n",
    "+ 是插入排序的一种改进\n",
    "+ 每次以固定步长将数据分组，分别进行插入排序\n",
    "+ 缩小步长，当步长为1时排序完成\n",
    "\n",
    "**2. 时间复杂度**   \n",
    "+ 最优时间复杂度：根据步长序列的不同而不同\n",
    "+ 最坏时间复杂度：O($n^{2}$)，退化为插入排序\n",
    "\n",
    "**3. 空间复杂度**\n",
    "+ 原位替换： O(1)\n",
    "\n",
    "**4. 排序稳定性**\n",
    "+ 不稳定"
   ]
  },
  {
   "cell_type": "code",
   "execution_count": 4,
   "metadata": {},
   "outputs": [],
   "source": [
    "def shell_sort(nums):\n",
    "    n = len(nums)\n",
    "    gap = n // 2\n",
    "    while gap > 0:\n",
    "        for i in range(gap, n):\n",
    "            j = i\n",
    "            while j > gap and nums[j - gap] > nums[j]:\n",
    "                nums[j - gap], nums[j] = nums[j], nums[j - gap]\n",
    "                j -= gap\n",
    "        gap //= 2\n",
    "    return nums"
   ]
  },
  {
   "cell_type": "code",
   "execution_count": 8,
   "metadata": {},
   "outputs": [],
   "source": [
    "test = [0,4,5,1,44,32,24,55,321,4]"
   ]
  },
  {
   "cell_type": "code",
   "execution_count": 9,
   "metadata": {},
   "outputs": [
    {
     "name": "stdout",
     "output_type": "stream",
     "text": [
      "name:s1\n",
      "origin:[0, 4, 5, 1, 44, 32, 24, 55, 321, 4]\n",
      "answer:[0, 1, 4, 4, 5, 24, 32, 44, 55, 321]\n",
      "time:2.7990515999999843s\n",
      "\n"
     ]
    }
   ],
   "source": [
    "if __name__ == '__main__':\n",
    "    from timeit import timeit\n",
    "    print('name:s1\\norigin:{}'.format(test))\n",
    "    print('answer:{}\\ntime:{}s\\n'.format(shell_sort(test),timeit('shell_sort(test)','from __main__ import shell_sort,test')))"
   ]
  },
  {
   "cell_type": "code",
   "execution_count": null,
   "metadata": {},
   "outputs": [],
   "source": []
  }
 ],
 "metadata": {
  "kernelspec": {
   "display_name": "Python 3",
   "language": "python",
   "name": "python3"
  },
  "language_info": {
   "codemirror_mode": {
    "name": "ipython",
    "version": 3
   },
   "file_extension": ".py",
   "mimetype": "text/x-python",
   "name": "python",
   "nbconvert_exporter": "python",
   "pygments_lexer": "ipython3",
   "version": "3.8.3"
  }
 },
 "nbformat": 4,
 "nbformat_minor": 4
}
