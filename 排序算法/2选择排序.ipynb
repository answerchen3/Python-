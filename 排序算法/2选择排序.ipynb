{
 "cells": [
  {
   "cell_type": "markdown",
   "metadata": {},
   "source": [
    "# 选择排序\n",
    "---\n",
    "**1. 基本思路**    \n",
    "+ 遍历未排序数列，选出最大值（最小值）替换到未排序数组后（前）\n",
    "\n",
    "**2. 时间复杂度**   \n",
    "+ 最优时间复杂度：O($n^{2}$)\n",
    "+ 最坏时间复杂度：O($n^{2}$)\n",
    "\n",
    "**3. 空间复杂度**\n",
    "+ 原位替换： O(1)\n",
    "\n",
    "**4. 排序稳定性**\n",
    "+ 不稳定"
   ]
  },
  {
   "cell_type": "code",
   "execution_count": 7,
   "metadata": {},
   "outputs": [],
   "source": [
    "def select_sort(nums):\n",
    "    n = len(nums)\n",
    "    left = 0\n",
    "    \n",
    "    while n > 0:\n",
    "        max_i = 0\n",
    "        for i in range(n):\n",
    "            if nums[i] > nums[max_i]:\n",
    "                max_i = i\n",
    "        nums[max_i], nums[n-1] = nums[n-1], nums[max_i]\n",
    "        n -= 1\n",
    "    return nums\n"
   ]
  },
  {
   "cell_type": "code",
   "execution_count": 8,
   "metadata": {},
   "outputs": [],
   "source": [
    "test = [0,4,5,1,44,32,24,55,321]"
   ]
  },
  {
   "cell_type": "code",
   "execution_count": 9,
   "metadata": {},
   "outputs": [
    {
     "name": "stdout",
     "output_type": "stream",
     "text": [
      "name:s1\n",
      "origin:[0, 4, 5, 1, 44, 32, 24, 55, 321]\n",
      "answer:[0, 1, 4, 5, 24, 32, 44, 55, 321]\n",
      "time:6.3197158000000115s\n",
      "\n"
     ]
    }
   ],
   "source": [
    "if __name__ == '__main__':\n",
    "    from timeit import timeit\n",
    "    print('name:s1\\norigin:{}'.format(test))\n",
    "    print('answer:{}\\ntime:{}s\\n'.format(select_sort(test),timeit('select_sort(test)','from __main__ import select_sort,test')))"
   ]
  },
  {
   "cell_type": "code",
   "execution_count": null,
   "metadata": {},
   "outputs": [],
   "source": []
  }
 ],
 "metadata": {
  "kernelspec": {
   "display_name": "Python 3",
   "language": "python",
   "name": "python3"
  },
  "language_info": {
   "codemirror_mode": {
    "name": "ipython",
    "version": 3
   },
   "file_extension": ".py",
   "mimetype": "text/x-python",
   "name": "python",
   "nbconvert_exporter": "python",
   "pygments_lexer": "ipython3",
   "version": "3.8.3"
  }
 },
 "nbformat": 4,
 "nbformat_minor": 4
}
