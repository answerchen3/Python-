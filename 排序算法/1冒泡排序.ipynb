{
 "cells": [
  {
   "cell_type": "markdown",
   "metadata": {},
   "source": [
    "# 冒泡排序\n",
    "---\n",
    "**1. 基本思路**    \n",
    "+ 一次遍历序列，两两对比，找到未排序数列的最大值（最小值）放在最右 \n",
    "\n",
    "**2. 时间复杂度**   \n",
    "+ 最优时间复杂度：O(n)，已排序序列\n",
    "+ 最坏时间复杂度：O($n^{2}$)\n",
    "\n",
    "**3. 空间复杂度**\n",
    "+ 原位替换： O(1)\n",
    "\n",
    "**4. 排序稳定性**\n",
    "+ 稳定\n"
   ]
  },
  {
   "cell_type": "code",
   "execution_count": 50,
   "metadata": {},
   "outputs": [],
   "source": [
    "#实现\n",
    "def bubble1(nums):\n",
    "    n = len(nums)\n",
    "    if n <= 1:\n",
    "        return\n",
    "    while n > 0:\n",
    "        for i in range(1, n):\n",
    "            if nums[i-1] > nums[i]:\n",
    "                nums[i-1], nums[i] = nums[i], nums[i-1]\n",
    "        n -= 1\n",
    "    return nums"
   ]
  },
  {
   "cell_type": "code",
   "execution_count": 51,
   "metadata": {},
   "outputs": [],
   "source": [
    "#改进\n",
    "#一次遍历未发生交换，立即返回\n",
    "def bubble2(nums):\n",
    "    n = len(nums)\n",
    "    if n <= 1:\n",
    "        return\n",
    "    while n > 0:\n",
    "        swap = 0\n",
    "        for i in range(1, n):\n",
    "            if nums[i-1] > nums[i]:\n",
    "                swap = 1\n",
    "                nums[i-1], nums[i] = nums[i], nums[i-1]\n",
    "        if swap == 0:\n",
    "            return nums\n",
    "        n -= 1\n",
    "    return nums"
   ]
  },
  {
   "cell_type": "code",
   "execution_count": 62,
   "metadata": {},
   "outputs": [],
   "source": [
    "test = [1, 2, 3, 4, 5, 6, 7]"
   ]
  },
  {
   "cell_type": "code",
   "execution_count": 64,
   "metadata": {},
   "outputs": [
    {
     "name": "stdout",
     "output_type": "stream",
     "text": [
      "name:b1\n",
      "origin:[1, 2, 3, 4, 5, 6, 7]\n",
      "answer:[1, 2, 3, 4, 5, 6, 7]\n",
      "time:3.2585927000000083s\n",
      "\n",
      "name:b2\n",
      "origin:[1, 2, 3, 4, 5, 6, 7]\n",
      "answer:[1, 2, 3, 4, 5, 6, 7]\n",
      "time:0.7809452000001329s\n",
      "\n"
     ]
    }
   ],
   "source": [
    "if __name__ == '__main__':\n",
    "    from timeit import timeit\n",
    "    print('name:b1\\norigin:{}\\nanswer:{}\\ntime:{}s\\n'.format(test, bubble1(test), timeit('bubble1(test)','from __main__ import bubble1,test')))\n",
    "    print('name:b2\\norigin:{}\\nanswer:{}\\ntime:{}s\\n'.format(test, bubble2(test), timeit('bubble2(test)','from __main__ import bubble2,test')))"
   ]
  },
  {
   "cell_type": "code",
   "execution_count": null,
   "metadata": {},
   "outputs": [],
   "source": []
  }
 ],
 "metadata": {
  "kernelspec": {
   "display_name": "Python 3",
   "language": "python",
   "name": "python3"
  },
  "language_info": {
   "codemirror_mode": {
    "name": "ipython",
    "version": 3
   },
   "file_extension": ".py",
   "mimetype": "text/x-python",
   "name": "python",
   "nbconvert_exporter": "python",
   "pygments_lexer": "ipython3",
   "version": "3.8.3"
  }
 },
 "nbformat": 4,
 "nbformat_minor": 4
}
