{
 "cells": [
  {
   "cell_type": "markdown",
   "metadata": {},
   "source": [
    "# 快速排序\n",
    "---\n",
    "**1. 基本思路**    \n",
    "+ 随机设置锚定点pivot通常为数组最左端或最右端\n",
    "+ 从右往左找（从左往右），将小于pivot的值移动到左边，大于pivot值移动到右边，确定pivot位置\n",
    "+ 递归地对左边进行排序，递归地对右边进行排序，直至序列为单元素\n",
    "\n",
    "**2. 时间复杂度**   \n",
    "+ 最优时间复杂度：O(nlog(n))，每次分割pivot刚好在中点处，需要二分的次数为k，则有$\\frac{n}{2^{k}}=1$，则k=log(n),每次遍历序列时间复杂度为n！，时间复杂度为nlog(n)\n",
    "+ 最坏时间复杂度：O($n^{2}$)，每次分割有一边只有一个元素，那么需要分的次数为n，每次遍历剩余序列时间复杂度为n！，时间复杂度为$n^2$\n",
    "\n",
    "**3. 空间复杂度**\n",
    "+ 最优空间复杂度： 当每次都能将序列分割为大小均等时间复杂度，递归使用的栈空间$log_2(n)$\n",
    "+ 最坏空间复杂度： 当每次分割为一边只有一个元素时，需要递归n-1次，栈空间为n\n",
    "\n",
    "**4. 排序稳定性**\n",
    "+ 不稳定"
   ]
  },
  {
   "cell_type": "code",
   "execution_count": 1,
   "metadata": {},
   "outputs": [],
   "source": [
    "def quick_sort(nums, start, end):\n",
    "    if start >= end:\n",
    "        return\n",
    "    left = start\n",
    "    right = end\n",
    "    pivot = nums[start]\n",
    "    while left < right:\n",
    "        while left < right and nums[right] >= pivot:\n",
    "            right -= 1\n",
    "        nums[left] = nums[right]\n",
    "        while left < right and nums[left] < pivot:\n",
    "            left += 1\n",
    "        nums[right] = nums[left]\n",
    "    nums[left] = pivot\n",
    "    quick_sort(nums,start, left-1)\n",
    "    quick_sort(nums,left+1, end)\n",
    "    return nums"
   ]
  },
  {
   "cell_type": "code",
   "execution_count": 7,
   "metadata": {},
   "outputs": [],
   "source": [
    "test = [0,4,5,1,44,32,24,55,321,4]"
   ]
  },
  {
   "cell_type": "code",
   "execution_count": 8,
   "metadata": {},
   "outputs": [
    {
     "name": "stdout",
     "output_type": "stream",
     "text": [
      "name:q1\n",
      "origin:[0, 4, 5, 1, 44, 32, 24, 55, 321, 4]\n",
      "answer:[0, 1, 4, 4, 5, 24, 32, 44, 55, 321]\n",
      "time:7.5686865000000125s\n",
      "\n"
     ]
    }
   ],
   "source": [
    "if __name__ == '__main__':\n",
    "    from timeit import timeit\n",
    "    print('name:q1\\norigin:{}'.format(test))\n",
    "    print('answer:{}\\ntime:{}s\\n'.format(quick_sort(test,0, len(test)-1),timeit('quick_sort(test, 0, len(test)-1)','from __main__ import quick_sort,test')))"
   ]
  },
  {
   "cell_type": "code",
   "execution_count": null,
   "metadata": {},
   "outputs": [],
   "source": []
  }
 ],
 "metadata": {
  "kernelspec": {
   "display_name": "Python 3",
   "language": "python",
   "name": "python3"
  },
  "language_info": {
   "codemirror_mode": {
    "name": "ipython",
    "version": 3
   },
   "file_extension": ".py",
   "mimetype": "text/x-python",
   "name": "python",
   "nbconvert_exporter": "python",
   "pygments_lexer": "ipython3",
   "version": "3.8.3"
  }
 },
 "nbformat": 4,
 "nbformat_minor": 4
}
